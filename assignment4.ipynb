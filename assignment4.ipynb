{
  "nbformat": 4,
  "nbformat_minor": 0,
  "metadata": {
    "colab": {
      "name": "assignment4.ipynb",
      "provenance": [],
      "authorship_tag": "ABX9TyMToLLtRlAvUmrRu/gVcWrW",
      "include_colab_link": true
    },
    "kernelspec": {
      "name": "python3",
      "display_name": "Python 3"
    }
  },
  "cells": [
    {
      "cell_type": "markdown",
      "metadata": {
        "id": "view-in-github",
        "colab_type": "text"
      },
      "source": [
        "<a href=\"https://colab.research.google.com/github/vardhaman3/assigment1/blob/vardhaman/assignment4.ipynb\" target=\"_parent\"><img src=\"https://colab.research.google.com/assets/colab-badge.svg\" alt=\"Open In Colab\"/></a>"
      ]
    },
    {
      "cell_type": "code",
      "metadata": {
        "id": "C4R96WEWVhxe",
        "outputId": "067d6baa-79b6-4d63-dd42-d431d4bfe9e4",
        "colab": {
          "base_uri": "https://localhost:8080/"
        }
      },
      "source": [
        "# 1st answer\n",
        "import pandas as pd\n",
        "print(pd.__version__)"
      ],
      "execution_count": 1,
      "outputs": [
        {
          "output_type": "stream",
          "text": [
            "1.1.4\n"
          ],
          "name": "stdout"
        }
      ]
    },
    {
      "cell_type": "code",
      "metadata": {
        "id": "38-BF7BZVoH1",
        "outputId": "f87f84b4-823a-4e99-886f-636e6d6ab686",
        "colab": {
          "base_uri": "https://localhost:8080/"
        }
      },
      "source": [
        "# 2nd answer\n",
        "import pandas as pd \n",
        "import numpy as np \n",
        "  \n",
        "google = np.array([14,25,36,47,58,69,17,28,39]) \n",
        "print(\"numpy array is:\", google)\n",
        "s = pd.Series(google) \n",
        "print(\"series of above numpy array is :\")\n",
        "print(s)"
      ],
      "execution_count": 2,
      "outputs": [
        {
          "output_type": "stream",
          "text": [
            "numpy array is: [14 25 36 47 58 69 17 28 39]\n",
            "series of above numpy array is :\n",
            "0    14\n",
            "1    25\n",
            "2    36\n",
            "3    47\n",
            "4    58\n",
            "5    69\n",
            "6    17\n",
            "7    28\n",
            "8    39\n",
            "dtype: int64\n"
          ],
          "name": "stdout"
        }
      ]
    },
    {
      "cell_type": "code",
      "metadata": {
        "id": "qoGNofvyVxgr",
        "outputId": "0f596683-9ebe-4f57-859f-34a89181cded",
        "colab": {
          "base_uri": "https://localhost:8080/",
          "height": 515
        }
      },
      "source": [
        "# 3rd answer\n",
        "import pandas as pd \n",
        "import numpy as np \n",
        "data = np.array([14,25,36,47,58,69,17,28,39]) \n",
        "print(\"numpy array is:\", data)\n",
        "google = pd.Series(data) \n",
        "print(\"series of above numpy array is :\")\n",
        "print(google)\n",
        "pd.DataFrame(google, columns=['ABC'])"
      ],
      "execution_count": 3,
      "outputs": [
        {
          "output_type": "stream",
          "text": [
            "numpy array is: [14 25 36 47 58 69 17 28 39]\n",
            "series of above numpy array is :\n",
            "0    14\n",
            "1    25\n",
            "2    36\n",
            "3    47\n",
            "4    58\n",
            "5    69\n",
            "6    17\n",
            "7    28\n",
            "8    39\n",
            "dtype: int64\n"
          ],
          "name": "stdout"
        },
        {
          "output_type": "execute_result",
          "data": {
            "text/html": [
              "<div>\n",
              "<style scoped>\n",
              "    .dataframe tbody tr th:only-of-type {\n",
              "        vertical-align: middle;\n",
              "    }\n",
              "\n",
              "    .dataframe tbody tr th {\n",
              "        vertical-align: top;\n",
              "    }\n",
              "\n",
              "    .dataframe thead th {\n",
              "        text-align: right;\n",
              "    }\n",
              "</style>\n",
              "<table border=\"1\" class=\"dataframe\">\n",
              "  <thead>\n",
              "    <tr style=\"text-align: right;\">\n",
              "      <th></th>\n",
              "      <th>ABC</th>\n",
              "    </tr>\n",
              "  </thead>\n",
              "  <tbody>\n",
              "    <tr>\n",
              "      <th>0</th>\n",
              "      <td>14</td>\n",
              "    </tr>\n",
              "    <tr>\n",
              "      <th>1</th>\n",
              "      <td>25</td>\n",
              "    </tr>\n",
              "    <tr>\n",
              "      <th>2</th>\n",
              "      <td>36</td>\n",
              "    </tr>\n",
              "    <tr>\n",
              "      <th>3</th>\n",
              "      <td>47</td>\n",
              "    </tr>\n",
              "    <tr>\n",
              "      <th>4</th>\n",
              "      <td>58</td>\n",
              "    </tr>\n",
              "    <tr>\n",
              "      <th>5</th>\n",
              "      <td>69</td>\n",
              "    </tr>\n",
              "    <tr>\n",
              "      <th>6</th>\n",
              "      <td>17</td>\n",
              "    </tr>\n",
              "    <tr>\n",
              "      <th>7</th>\n",
              "      <td>28</td>\n",
              "    </tr>\n",
              "    <tr>\n",
              "      <th>8</th>\n",
              "      <td>39</td>\n",
              "    </tr>\n",
              "  </tbody>\n",
              "</table>\n",
              "</div>"
            ],
            "text/plain": [
              "   ABC\n",
              "0   14\n",
              "1   25\n",
              "2   36\n",
              "3   47\n",
              "4   58\n",
              "5   69\n",
              "6   17\n",
              "7   28\n",
              "8   39"
            ]
          },
          "metadata": {
            "tags": []
          },
          "execution_count": 3
        }
      ]
    },
    {
      "cell_type": "code",
      "metadata": {
        "id": "dCDiUw9jV2vZ",
        "outputId": "0be0d716-e5f8-449b-bf9d-e86738ed4014",
        "colab": {
          "base_uri": "https://localhost:8080/"
        }
      },
      "source": [
        "#4th answer\n",
        "import seaborn as sns\n",
        "sns.get_dataset_names()"
      ],
      "execution_count": 4,
      "outputs": [
        {
          "output_type": "execute_result",
          "data": {
            "text/plain": [
              "['anagrams',\n",
              " 'anscombe',\n",
              " 'attention',\n",
              " 'brain_networks',\n",
              " 'car_crashes',\n",
              " 'diamonds',\n",
              " 'dots',\n",
              " 'exercise',\n",
              " 'flights',\n",
              " 'fmri',\n",
              " 'gammas',\n",
              " 'geyser',\n",
              " 'iris',\n",
              " 'mpg',\n",
              " 'penguins',\n",
              " 'planets',\n",
              " 'tips',\n",
              " 'titanic']"
            ]
          },
          "metadata": {
            "tags": []
          },
          "execution_count": 4
        }
      ]
    }
  ]
}