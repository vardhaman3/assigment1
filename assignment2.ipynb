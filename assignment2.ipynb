{
  "nbformat": 4,
  "nbformat_minor": 0,
  "metadata": {
    "colab": {
      "name": "assignment2.ipynb",
      "provenance": [],
      "authorship_tag": "ABX9TyNUNU6CWM6duVgGF9pgzAAH",
      "include_colab_link": true
    },
    "kernelspec": {
      "name": "python3",
      "display_name": "Python 3"
    }
  },
  "cells": [
    {
      "cell_type": "markdown",
      "metadata": {
        "id": "view-in-github",
        "colab_type": "text"
      },
      "source": [
        "<a href=\"https://colab.research.google.com/github/vardhaman3/assigment1/blob/vardhaman/assignment2.ipynb\" target=\"_parent\"><img src=\"https://colab.research.google.com/assets/colab-badge.svg\" alt=\"Open In Colab\"/></a>"
      ]
    },
    {
      "cell_type": "code",
      "metadata": {
        "id": "7TdjsVcnPAWc",
        "outputId": "6dfed058-7dad-400c-d4b4-1bebf9988822",
        "colab": {
          "base_uri": "https://localhost:8080/"
        }
      },
      "source": [
        "#1st answer\n",
        "google=[]\n",
        "for i in range(10):\n",
        "    input_number=int(input(\"Enter a Number:\"))\n",
        "    if(input_number%2==0):\n",
        "        google.append(input_number)\n",
        "print(google)"
      ],
      "execution_count": 2,
      "outputs": [
        {
          "output_type": "stream",
          "text": [
            "Enter a Number:1\n",
            "Enter a Number:2\n",
            "Enter a Number:3\n",
            "Enter a Number:4\n",
            "Enter a Number:5\n",
            "Enter a Number:6\n",
            "Enter a Number:7\n",
            "Enter a Number:8\n",
            "Enter a Number:9\n",
            "Enter a Number:0\n",
            "[2, 4, 6, 8, 0]\n"
          ],
          "name": "stdout"
        }
      ]
    },
    {
      "cell_type": "code",
      "metadata": {
        "id": "2cCPBHzTP0px",
        "outputId": "4a23930a-f6f8-4356-852a-cdb9a3e088c8",
        "colab": {
          "base_uri": "https://localhost:8080/"
        }
      },
      "source": [
        "#2nd answer\n",
        "google=[1,2,3,4,5,6,7,8,9,10]\n",
        "print(google)\n",
        "list0=[99,88,77,44,55,66,33,22,11]\n",
        "print(list0)\n",
        "list1=[i for i in range(11,26)]\n",
        "print(list1)\n",
        "\n",
        "list1.append(27)\n",
        "print(list1)\n",
        "\n",
        "list1.insert(5,29)\n",
        "print(list1)\n",
        "\n",
        "google.extend(list1)\n",
        "print(google)\n",
        "\n",
        "google.remove(20)\n",
        "print(google)\n",
        "\n",
        "list0.sort()\n",
        "print(list0)"
      ],
      "execution_count": 9,
      "outputs": [
        {
          "output_type": "stream",
          "text": [
            "[1, 2, 3, 4, 5, 6, 7, 8, 9, 10]\n",
            "[99, 88, 77, 44, 55, 66, 33, 22, 11]\n",
            "[11, 12, 13, 14, 15, 16, 17, 18, 19, 20, 21, 22, 23, 24, 25]\n",
            "[11, 12, 13, 14, 15, 16, 17, 18, 19, 20, 21, 22, 23, 24, 25, 27]\n",
            "[11, 12, 13, 14, 15, 29, 16, 17, 18, 19, 20, 21, 22, 23, 24, 25, 27]\n",
            "[1, 2, 3, 4, 5, 6, 7, 8, 9, 10, 11, 12, 13, 14, 15, 29, 16, 17, 18, 19, 20, 21, 22, 23, 24, 25, 27]\n",
            "[1, 2, 3, 4, 5, 6, 7, 8, 9, 10, 11, 12, 13, 14, 15, 29, 16, 17, 18, 19, 21, 22, 23, 24, 25, 27]\n",
            "[11, 22, 33, 44, 55, 66, 77, 88, 99]\n"
          ],
          "name": "stdout"
        }
      ]
    },
    {
      "cell_type": "code",
      "metadata": {
        "id": "F409cHg_Qqfl",
        "outputId": "79b711b9-c482-4fa6-eb27-f04a19949542",
        "colab": {
          "base_uri": "https://localhost:8080/"
        }
      },
      "source": [
        "# 3rd answer\n",
        "google=int(input())\n",
        "dict1={i:i*i for i in range(1,google+1)}\n",
        "print(dict1)"
      ],
      "execution_count": 5,
      "outputs": [
        {
          "output_type": "stream",
          "text": [
            "14\n",
            "{1: 1, 2: 4, 3: 9, 4: 16, 5: 25, 6: 36, 7: 49, 8: 64, 9: 81, 10: 100, 11: 121, 12: 144, 13: 169, 14: 196}\n"
          ],
          "name": "stdout"
        }
      ]
    },
    {
      "cell_type": "code",
      "metadata": {
        "id": "xhQD8GOnQ5IG",
        "outputId": "c71fc18f-7cd7-4063-96d7-43e118502e01",
        "colab": {
          "base_uri": "https://localhost:8080/"
        }
      },
      "source": [
        "# 4th answer\n",
        "pos = {\"x\":0,\"y\":0}\n",
        "\n",
        "google = int(input())\n",
        "\n",
        "for i in range (google):\n",
        "    move =  input().split(\" \")      \n",
        "    \n",
        "    if move[0].lower() == \"up\":     \n",
        "        pos[\"y\"] += int(move[1])    \n",
        "    \n",
        "    elif move[0].lower() == \"down\":\n",
        "        pos[\"y\"] -= int(move[1])\n",
        "    \n",
        "    elif move[0].lower() == \"left\":\n",
        "        pos[\"x\"] -= int(move[1])\n",
        "    \n",
        "    elif move[0].lower() == \"right\":\n",
        "        pos[\"x\"] += int(move[1])\n",
        "\n",
        "print(int(round((pos[\"x\"]**2 + pos[\"y\"]**2)**0.5))) "
      ],
      "execution_count": 7,
      "outputs": [
        {
          "output_type": "stream",
          "text": [
            "4\n",
            "5\n",
            "3\n",
            "3\n",
            "2\n",
            "0\n"
          ],
          "name": "stdout"
        }
      ]
    },
    {
      "cell_type": "code",
      "metadata": {
        "id": "0pAfzhYCRtox"
      },
      "source": [
        ""
      ],
      "execution_count": null,
      "outputs": []
    }
  ]
}