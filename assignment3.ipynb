{
  "nbformat": 4,
  "nbformat_minor": 0,
  "metadata": {
    "colab": {
      "name": "assignment3.ipynb",
      "provenance": [],
      "authorship_tag": "ABX9TyPZx5JwlGoTDvPQqvfi382j",
      "include_colab_link": true
    },
    "kernelspec": {
      "name": "python3",
      "display_name": "Python 3"
    }
  },
  "cells": [
    {
      "cell_type": "markdown",
      "metadata": {
        "id": "view-in-github",
        "colab_type": "text"
      },
      "source": [
        "<a href=\"https://colab.research.google.com/github/vardhaman3/assigment1/blob/vardhaman/assignment3.ipynb\" target=\"_parent\"><img src=\"https://colab.research.google.com/assets/colab-badge.svg\" alt=\"Open In Colab\"/></a>"
      ]
    },
    {
      "cell_type": "code",
      "metadata": {
        "id": "w478Ep8KTCOv",
        "outputId": "f5ecf259-9580-47bd-e8d1-34f435e1b326",
        "colab": {
          "base_uri": "https://localhost:8080/"
        }
      },
      "source": [
        "# 1st answer\n",
        "import numpy as np\n",
        "arr = np.arange(2, 50, 3)\n",
        "print(arr)"
      ],
      "execution_count": 1,
      "outputs": [
        {
          "output_type": "stream",
          "text": [
            "[ 2  5  8 11 14 17 20 23 26 29 32 35 38 41 44 47]\n"
          ],
          "name": "stdout"
        }
      ]
    },
    {
      "cell_type": "code",
      "metadata": {
        "id": "THqERLOGTpbq",
        "outputId": "7d42b0c7-c9e0-476f-e72e-1e53febdf155",
        "colab": {
          "base_uri": "https://localhost:8080/"
        }
      },
      "source": [
        "#1st answer\n",
        "import numpy as n\n",
        "list_1 = []\n",
        "list_2 = []\n",
        "for i in range(5):\n",
        "  google=int(input(\"\\nEnter values for list 1: \"))\n",
        "  list_1.append(google)\n",
        "print(\"list 1\", list_1)\n",
        "for i in range(5):\n",
        "  x=int(input(\"\\nEnter values for list 2: \"))\n",
        "  list_2.append(google)\n",
        "print(\"list 2\", list_2)\n",
        "print(\" \")\n",
        "array_1 = np.array(list_1)\n",
        "print(\"array 1: \", array_1)\n",
        "array_2 = np.array(list_2)\n",
        "print(\"array 2: \", array_2)\n",
        "arr_concat = np.concatenate((array_1, array_2))\n",
        "print(\"Array after concatenation is : \", arr_concat)\n",
        "print(\"sorted array is:\", np.sort(arr_concat))"
      ],
      "execution_count": 2,
      "outputs": [
        {
          "output_type": "stream",
          "text": [
            "\n",
            "Enter values for list 1: 4\n",
            "\n",
            "Enter values for list 1: 55\n",
            "\n",
            "Enter values for list 1: 66\n",
            "\n",
            "Enter values for list 1: 44\n",
            "\n",
            "Enter values for list 1: 33\n",
            "list 1 [4, 55, 66, 44, 33]\n",
            "\n",
            "Enter values for list 2: 88\n",
            "\n",
            "Enter values for list 2: 99\n",
            "\n",
            "Enter values for list 2: 77\n",
            "\n",
            "Enter values for list 2: 55\n",
            "\n",
            "Enter values for list 2: 44\n",
            "list 2 [33, 33, 33, 33, 33]\n",
            " \n",
            "array 1:  [ 4 55 66 44 33]\n",
            "array 2:  [33 33 33 33 33]\n",
            "Array after concatenation is :  [ 4 55 66 44 33 33 33 33 33 33]\n",
            "sorted array is: [ 4 33 33 33 33 33 33 44 55 66]\n"
          ],
          "name": "stdout"
        }
      ]
    },
    {
      "cell_type": "code",
      "metadata": {
        "id": "ANIPy4DDUfxe",
        "outputId": "b19b9720-3197-455c-eda0-e8a70c4bde66",
        "colab": {
          "base_uri": "https://localhost:8080/"
        }
      },
      "source": [
        "import numpy as np\n",
        "google = np.array([[11,25,33,77],[14,39,55,37]])\n",
        "print(arr)\n",
        "print(\"\\nDimensions of array : \", google.ndim)\n",
        "print(\"\\nSize of array : \", google.size)     "
      ],
      "execution_count": 3,
      "outputs": [
        {
          "output_type": "stream",
          "text": [
            "[ 2  5  8 11 14 17 20 23 26 29 32 35 38 41 44 47]\n",
            "\n",
            "Dimensions of array :  2\n",
            "\n",
            "Size of array :  8\n"
          ],
          "name": "stdout"
        }
      ]
    },
    {
      "cell_type": "code",
      "metadata": {
        "id": "ONpDreVMU8ZA",
        "outputId": "a9ef78f1-e7d1-44b7-a8bb-226b1007dafb",
        "colab": {
          "base_uri": "https://localhost:8080/"
        }
      },
      "source": [
        "import numpy as np\n",
        "arr = np.arange(20)\n",
        "print(\"\\nShape of Array :\",arr.shape)\n",
        "row_arr = arr[np.newaxis, :]\n",
        "print(\"\\nShape of 2d Array in row major :\",row_arr.shape)\n",
        "col_arr = arr[:, np.newaxis]\n",
        "print(\"\\nShape of 2d Array in column major :\",col_arr.shape)"
      ],
      "execution_count": 4,
      "outputs": [
        {
          "output_type": "stream",
          "text": [
            "\n",
            "Shape of Array : (20,)\n",
            "\n",
            "Shape of 2d Array in row major : (1, 20)\n",
            "\n",
            "Shape of 2d Array in column major : (20, 1)\n"
          ],
          "name": "stdout"
        }
      ]
    }
  ]
}